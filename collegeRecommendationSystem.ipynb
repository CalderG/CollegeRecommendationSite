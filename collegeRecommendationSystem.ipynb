{
 "cells": [
  {
   "cell_type": "code",
   "execution_count": 5,
   "metadata": {},
   "outputs": [],
   "source": [
    "# Read in the college data\n",
    "import pandas as pd\n",
    "import numpy as np\n",
    "import re\n",
    "from sklearn.feature_extraction.text import TfidfVectorizer\n",
    "from sklearn.metrics.pairwise import cosine_similarity\n",
    "\n",
    "collegeData = pd.read_csv(\"tentativeCollegeData.csv\")\n",
    "\n",
    "state_book = {\n",
    "    \"AL\": \"Alabama\", \n",
    "    \"AR\": \"Arkansas\",\n",
    "    \"AZ\": \"Arizona\",\n",
    "    \"CA\": \"California\",\n",
    "    \"CO\": \"Colorado\",\n",
    "    \"CT\": \"Connecticut\",\n",
    "    \"DC\": \"Washington, DC\",\n",
    "    \"FL\": \"Florida\",\n",
    "    \"GA\": \"Georgia\",\n",
    "    \"HI\": \"Hawaii\",\n",
    "    \"ID\": \"Idaho\",\n",
    "    \"IL\": \"Illinois\",\n",
    "    \"IN\": \"Indiana\",\n",
    "    \"IA\": \"Iowa\",\n",
    "    \"KS\": \"Kansas\",\n",
    "    \"KY\": \"Kentucky\",\n",
    "    \"LA\": \"Louisiana\",\n",
    "    \"ME\": \"Maine\",\n",
    "    \"MD\": \"Maryland\",\n",
    "    \"MA\": \"Massachusetts\",\n",
    "    \"MI\": \"Michigan\",\n",
    "    \"MN\": \"Minnesota\",\n",
    "    \"MS\": \"Mississippi\",\n",
    "    \"MO\": \"Missouri\",\n",
    "    \"MT\": \"Montana\",\n",
    "    \"NE\": \"Nebraska\",\n",
    "    \"NV\": \"Nevada\",\n",
    "    \"NH\": \"New Hampshire\",\n",
    "    \"NJ\": \"New Jersey\",\n",
    "    \"NM\": \"New Mexico\",\n",
    "    \"NY\": \"New York\",\n",
    "    \"NC\": \"North Carolina\",\n",
    "    \"ND\": \"North Dakota\",\n",
    "    \"OH\": \"Ohio\",\n",
    "    \"OK\": \"Oklahoma\",\n",
    "    \"OR\": \"Oregon\",\n",
    "    \"PA\": \"Pennsylvania\",\n",
    "    \"RI\": \"Rhode Island\",\n",
    "    \"SC\": \"South Carolina\",\n",
    "    \"SD\": \"South Dakota\",\n",
    "    \"TN\": \"Tennessee\",\n",
    "    \"TX\": \"Texas\",\n",
    "    \"UT\": \"Utah\",\n",
    "    \"VT\": \"Vermont\",\n",
    "    \"VA\": \"Virginia\",\n",
    "    \"WA\": \"Washington\",\n",
    "    \"WV\": \"West Virginia\",\n",
    "    \"WI\": \"Wisconsin\"\n",
    "# note Alaska, Delaware, and Wyoming are missing \n",
    "}\n",
    "\n",
    "collegeData[\"General Location\"] = collegeData[\"School Name\"] + \" \" + collegeData[\"City\"]\n",
    "\n",
    "# recommendation options:\n",
    "\n",
    "\n",
    "# 1. location - probably concatenation of university name + city + maybe state\n",
    "\n",
    "# 2. Cost of living - use on campus and off campus housing costs - maybe have a slider so user can say put 6k and it will look for colleges with 6k living or lower\n",
    "\n",
    "# 3. Maybe similar as cost of living for admission rate\n",
    "\n",
    "# 4. "
   ]
  },
  {
   "cell_type": "code",
   "execution_count": 6,
   "metadata": {},
   "outputs": [
    {
     "data": {
      "text/plain": [
       "0                         Alabama A  M University Normal\n",
       "1         University of Alabama at Birmingham Birmingham\n",
       "2         University of Alabama in Huntsville Huntsville\n",
       "3                    Alabama State University Montgomery\n",
       "4                   The University of Alabama Tuscaloosa\n",
       "                             ...                        \n",
       "981                Emory UniversityOxford College Oxford\n",
       "982                             Husson University Bangor\n",
       "983                  Purdue University Northwest Hammond\n",
       "984    Commonwealth University of Pennsylvania Blooms...\n",
       "985           Pennsylvania Western University California\n",
       "Name: General Location, Length: 986, dtype: object"
      ]
     },
     "execution_count": 6,
     "metadata": {},
     "output_type": "execute_result"
    }
   ],
   "source": [
    "def clean_schoolName(schoolName):\n",
    "    return re.sub(\"[^a-zA-Z0-9 ]\", \"\", schoolName)\n",
    "\n",
    "collegeData[\"General Location\"].apply(clean_schoolName)\n",
    "\n"
   ]
  },
  {
   "cell_type": "code",
   "execution_count": 7,
   "metadata": {},
   "outputs": [],
   "source": [
    "import ipywidgets as widgets\n",
    "from IPython.display import display\n",
    "\n",
    "search_vectorizer = TfidfVectorizer(ngram_range=(1,2))\n",
    "\n",
    "college_tfidif = search_vectorizer.fit_transform(collegeData[\"General Location\"])\n",
    "\n",
    "\n",
    "def search_college(collegeName):\n",
    "   collegeName = clean_schoolName(collegeName)\n",
    "   query_colleges = search_vectorizer.transform([collegeName])\n",
    "   similaritycollege = cosine_similarity(query_colleges, college_tfidif).flatten()\n",
    "   collegeIndices = np.argpartition(similaritycollege, -10)[-10:] # 5 most similar colleges\n",
    "   collegeResults = collegeData.iloc[collegeIndices][::-1]\n",
    "\n",
    "   return collegeResults\n",
    "\n",
    "#college_input = widgets.Text(\n",
    "   # value = \"\",\n",
    "   # description = \"School Name:\",\n",
    "   # disabled = False\n",
    "#)\n",
    "\n",
    "#college_input"
   ]
  },
  {
   "cell_type": "code",
   "execution_count": null,
   "metadata": {},
   "outputs": [
    {
     "data": {
      "application/vnd.jupyter.widget-view+json": {
       "model_id": "d428da557ee540829c5d2e2bc6e50198",
       "version_major": 2,
       "version_minor": 0
      },
      "text/plain": [
       "Text(value='', description='School Name:')"
      ]
     },
     "metadata": {},
     "output_type": "display_data"
    },
    {
     "data": {
      "application/vnd.jupyter.widget-view+json": {
       "model_id": "031c6fc543494b86a12c84319f441d57",
       "version_major": 2,
       "version_minor": 0
      },
      "text/plain": [
       "Output()"
      ]
     },
     "metadata": {},
     "output_type": "display_data"
    }
   ],
   "source": [
    "college_input = widgets.Text(\n",
    "    value = \"\",\n",
    "    description = \"School Name:\",\n",
    "    disabled = False\n",
    ")\n",
    "\n",
    "# setup an input for school names\n",
    "\n",
    "college_list = widgets.Output()\n",
    "\n",
    "# list of colleges to display?\n",
    "\n",
    "def collegetypes(givenData):\n",
    "    with college_list:\n",
    "        college_list.clear_output()\n",
    "        collegeTitle = givenData[\"new\"]\n",
    "        if len(collegeTitle) > 5:\n",
    "            display(search_college(collegeTitle))\n",
    "\n",
    "college_input.observe(collegetypes, names = \"value\")\n",
    "\n",
    "display(college_input, college_list)\n",
    "# idea\n",
    "\n",
    "# synthetic student data where there exists:\n",
    "\n",
    "# GPA, parent income, location, desired location, extracurriculars, SAT test scores, and general area description (rural, urban, etc.)\n",
    "\n",
    "# parent income affects what colleges will be recommended based on instate tuition, on campus housing cost, and off campus housing cost\n",
    "# \n",
    "# GPA, extracurriculars, and SAT test scores affects what colleges will be recommended based on average sat score and admission rate\n",
    "# \n",
    "# location and desired location will affect which colleges are recommended based on college name, city, state, population size, and degree of urbanization"
   ]
  },
  {
   "cell_type": "code",
   "execution_count": 9,
   "metadata": {},
   "outputs": [],
   "source": [
    "# tentative sliders for numeric features\n",
    "\n",
    "from ipywidgets import HBox, Label\n",
    "admissionRate_slider = widgets.FloatSlider(\n",
    "    value = 0.5,\n",
    "    min = 0,\n",
    "    max = 1,\n",
    "    step = 0.01,\n",
    "    disabled = False,\n",
    "    continuous_update = False\n",
    ")\n",
    "\n",
    "studentPopulationSize_slider = widgets.FloatSlider(\n",
    "    value = 30000,\n",
    "    min = 0,\n",
    "    max = 60000,\n",
    "    step = 1000,\n",
    "    disabled = False,\n",
    "    continuous_update = False\n",
    ")\n",
    "\n",
    "instateTuition_slider = widgets.FloatSlider(\n",
    "    value = 30000,\n",
    "    min = 0,\n",
    "    max = 70000,\n",
    "    step = 1000,\n",
    "    disabled = False,\n",
    "    continuous_update = False\n",
    ")\n",
    "\n",
    "onCampus_housingCostSlider = widgets.FloatSlider(\n",
    "    value = 12000,\n",
    "    min = 0,\n",
    "    max = 25000,\n",
    "    step = 1000,\n",
    "    disabled = False,\n",
    "    continuous_update = False\n",
    ")\n",
    "\n",
    "offCampus_housingCostSlider = widgets.FloatSlider(\n",
    "    value = 13000,\n",
    "    min = 0,\n",
    "    max = 26000,\n",
    "    step = 1000,\n",
    "    disabled = False,\n",
    "    continuous_update = False\n",
    ")\n",
    "\n",
    "studentFacultyRatio_Slider = widgets.FloatSlider(\n",
    "    value = 14,\n",
    "    min = 0,\n",
    "    max = 29,\n",
    "    step = 1,\n",
    "    disabled = False,\n",
    "    continuous_update = False\n",
    ")\n",
    "\n",
    "medianEarnings_Slider = widgets.FloatSlider(\n",
    "    value = 61000,\n",
    "    min = 0,\n",
    "    max = 125000,\n",
    "    step = 1000,\n",
    "    disabled = False,\n",
    "    continuous_update = False\n",
    ")\n",
    "\n",
    "averageSAT_scoreSlider = widgets.FloatSlider(\n",
    "    value = 800,\n",
    "    min = 0,\n",
    "    max = 1600,\n",
    "    step = 10,\n",
    "    disabled = False,\n",
    "    continuous_update = False\n",
    ")\n",
    "\n",
    "sliderVec = [admissionRate_slider, studentPopulationSize_slider, studentFacultyRatio_Slider, \n",
    "             instateTuition_slider, onCampus_housingCostSlider, offCampus_housingCostSlider, \n",
    "             medianEarnings_Slider, averageSAT_scoreSlider]\n",
    "\n",
    "sliderDescriptions = [\"Admission Rate\", \"Student Population Size\",  \"Student to Faculty Ratio\", \n",
    "                      \"In-State Tuition\", \"On-Campus Housing Cost\", \"Off-Campus Housing Cost\", \n",
    "                      \"Median Earnings after 7 Years\", \"Average SAT Score\"]\n",
    "\n"
   ]
  },
  {
   "cell_type": "code",
   "execution_count": 10,
   "metadata": {},
   "outputs": [
    {
     "data": {
      "application/vnd.jupyter.widget-view+json": {
       "model_id": "1f5af5c6ef674b67b7ec8feac079d6b6",
       "version_major": 2,
       "version_minor": 0
      },
      "text/plain": [
       "HBox(children=(Label(value='Admission Rate'), FloatSlider(value=0.5, continuous_update=False, max=1.0, step=0.…"
      ]
     },
     "metadata": {},
     "output_type": "display_data"
    },
    {
     "data": {
      "application/vnd.jupyter.widget-view+json": {
       "model_id": "b456151e373342f9a22eeec01c8306e4",
       "version_major": 2,
       "version_minor": 0
      },
      "text/plain": [
       "HBox(children=(Label(value='Student Population Size'), FloatSlider(value=30000.0, continuous_update=False, max…"
      ]
     },
     "metadata": {},
     "output_type": "display_data"
    },
    {
     "data": {
      "application/vnd.jupyter.widget-view+json": {
       "model_id": "69e9ece8111d4334ab932b5c5779a207",
       "version_major": 2,
       "version_minor": 0
      },
      "text/plain": [
       "HBox(children=(Label(value='Student to Faculty Ratio'), FloatSlider(value=14.0, continuous_update=False, max=2…"
      ]
     },
     "metadata": {},
     "output_type": "display_data"
    },
    {
     "data": {
      "application/vnd.jupyter.widget-view+json": {
       "model_id": "b0a63788595e46a8b73646221ef15088",
       "version_major": 2,
       "version_minor": 0
      },
      "text/plain": [
       "HBox(children=(Label(value='In-State Tuition'), FloatSlider(value=30000.0, continuous_update=False, max=70000.…"
      ]
     },
     "metadata": {},
     "output_type": "display_data"
    },
    {
     "data": {
      "application/vnd.jupyter.widget-view+json": {
       "model_id": "a6b8fd000af44e4cae1b1f1c19544733",
       "version_major": 2,
       "version_minor": 0
      },
      "text/plain": [
       "HBox(children=(Label(value='On-Campus Housing Cost'), FloatSlider(value=12000.0, continuous_update=False, max=…"
      ]
     },
     "metadata": {},
     "output_type": "display_data"
    },
    {
     "data": {
      "application/vnd.jupyter.widget-view+json": {
       "model_id": "9e4528c920ba4c8cab1e678c2a70f827",
       "version_major": 2,
       "version_minor": 0
      },
      "text/plain": [
       "HBox(children=(Label(value='Off-Campus Housing Cost'), FloatSlider(value=13000.0, continuous_update=False, max…"
      ]
     },
     "metadata": {},
     "output_type": "display_data"
    },
    {
     "data": {
      "application/vnd.jupyter.widget-view+json": {
       "model_id": "4459ae12fb4b4f48b84379a540ccd083",
       "version_major": 2,
       "version_minor": 0
      },
      "text/plain": [
       "HBox(children=(Label(value='Median Earnings after 7 Years'), FloatSlider(value=61000.0, continuous_update=Fals…"
      ]
     },
     "metadata": {},
     "output_type": "display_data"
    },
    {
     "data": {
      "application/vnd.jupyter.widget-view+json": {
       "model_id": "171e5127e7994062a41e2404ba82ba85",
       "version_major": 2,
       "version_minor": 0
      },
      "text/plain": [
       "HBox(children=(Label(value='Average SAT Score'), FloatSlider(value=800.0, continuous_update=False, max=1600.0,…"
      ]
     },
     "metadata": {},
     "output_type": "display_data"
    }
   ],
   "source": [
    "for each_slider in range(len(sliderVec)):\n",
    "    display(HBox([Label(sliderDescriptions[each_slider]), sliderVec[each_slider]]))\n",
    "\n",
    "# displaying the sliders with descriptions for what the values represent\n"
   ]
  },
  {
   "cell_type": "code",
   "execution_count": null,
   "metadata": {},
   "outputs": [],
   "source": [
    "collegeNamesDesc = collegeData[\"School Name\"]\n",
    "type(collegeNamesDesc)\n",
    "\n",
    "collegeNamesDesc.to_csv(\"collegeNames.txt\", sep = \"\\t\", index = False)\n",
    "\n",
    "\n",
    "# make a new column with the highest earning majors "
   ]
  }
 ],
 "metadata": {
  "kernelspec": {
   "display_name": "Python 3",
   "language": "python",
   "name": "python3"
  },
  "language_info": {
   "codemirror_mode": {
    "name": "ipython",
    "version": 3
   },
   "file_extension": ".py",
   "mimetype": "text/x-python",
   "name": "python",
   "nbconvert_exporter": "python",
   "pygments_lexer": "ipython3",
   "version": "3.13.0"
  }
 },
 "nbformat": 4,
 "nbformat_minor": 2
}
